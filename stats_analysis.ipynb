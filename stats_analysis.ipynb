{
 "cells": [
  {
   "cell_type": "code",
   "execution_count": 141,
   "id": "initial_id",
   "metadata": {
    "collapsed": true,
    "ExecuteTime": {
     "end_time": "2024-04-21T08:40:23.083287700Z",
     "start_time": "2024-04-21T08:40:23.021030051Z"
    }
   },
   "outputs": [],
   "source": [
    "import pandas as pd"
   ]
  },
  {
   "cell_type": "code",
   "execution_count": 142,
   "outputs": [
    {
     "name": "stdout",
     "output_type": "stream",
     "text": [
      "  Order Date  Row ID        Order ID       Ship Mode Customer ID      Segment  \\\n",
      "0   01-01-20     849  CA-2017-107503  Standard Class    GA-14725     Consumer   \n",
      "1   01-01-20    4010  CA-2017-144463  Standard Class    SC-20725     Consumer   \n",
      "2   01-01-20    6683  CA-2017-154466     First Class    DP-13390  Home Office   \n",
      "3   01-01-20    8070  CA-2017-151750  Standard Class    JM-15250     Consumer   \n",
      "4   01-01-20    8071  CA-2017-151750  Standard Class    JM-15250     Consumer   \n",
      "\n",
      "         Country         City       State  Postal Code   Region  \\\n",
      "0  United States       Lorain        Ohio        44052     East   \n",
      "1  United States  Los Angeles  California        90036     West   \n",
      "2  United States     Franklin   Wisconsin        53132  Central   \n",
      "3  United States   Huntsville       Texas        77340  Central   \n",
      "4  United States   Huntsville       Texas        77340  Central   \n",
      "\n",
      "        Product ID         Category Sub-Category  \\\n",
      "0  FUR-FU-10003878        Furniture  Furnishings   \n",
      "1  FUR-FU-10001215        Furniture  Furnishings   \n",
      "2  OFF-BI-10002012  Office Supplies      Binders   \n",
      "3  OFF-ST-10002743  Office Supplies      Storage   \n",
      "4  FUR-FU-10002116        Furniture  Furnishings   \n",
      "\n",
      "                                        Product Name    Sales  Quantity  \\\n",
      "0                 Linden 10\" Round Wall Clock, Black   48.896         4   \n",
      "1  Howard Miller 11-1/2\" Diameter Brentwood Wall ...  474.430        11   \n",
      "2            Wilson Jones Easy Flow II Sheet Lifters    3.600         2   \n",
      "3                      SAFCO Boltless Steel Shelving  454.560         5   \n",
      "4  Tenex Carpeted, Granite-Look or Clear Contempo...  141.420         5   \n",
      "\n",
      "   Discount    Profit  \n",
      "0       0.2    8.5568  \n",
      "1       0.0  199.2606  \n",
      "2       0.0    1.7280  \n",
      "3       0.2 -107.9580  \n",
      "4       0.6 -187.3815  \n",
      "<class 'pandas.core.frame.DataFrame'>\n",
      "RangeIndex: 3312 entries, 0 to 3311\n",
      "Data columns (total 19 columns):\n",
      " #   Column        Non-Null Count  Dtype  \n",
      "---  ------        --------------  -----  \n",
      " 0   Order Date    3312 non-null   object \n",
      " 1   Row ID        3312 non-null   int64  \n",
      " 2   Order ID      3312 non-null   object \n",
      " 3   Ship Mode     3312 non-null   object \n",
      " 4   Customer ID   3312 non-null   object \n",
      " 5   Segment       3312 non-null   object \n",
      " 6   Country       3312 non-null   object \n",
      " 7   City          3312 non-null   object \n",
      " 8   State         3312 non-null   object \n",
      " 9   Postal Code   3312 non-null   int64  \n",
      " 10  Region        3312 non-null   object \n",
      " 11  Product ID    3312 non-null   object \n",
      " 12  Category      3312 non-null   object \n",
      " 13  Sub-Category  3312 non-null   object \n",
      " 14  Product Name  3312 non-null   object \n",
      " 15  Sales         3312 non-null   float64\n",
      " 16  Quantity      3312 non-null   int64  \n",
      " 17  Discount      3312 non-null   float64\n",
      " 18  Profit        3312 non-null   float64\n",
      "dtypes: float64(3), int64(3), object(13)\n",
      "memory usage: 491.8+ KB\n",
      "None\n"
     ]
    }
   ],
   "source": [
    "df = pd.read_csv('dataset.csv', encoding='windows-1252')\n",
    "print(df.head())\n",
    "print(df.info())"
   ],
   "metadata": {
    "collapsed": false,
    "ExecuteTime": {
     "end_time": "2024-04-21T08:40:23.150182406Z",
     "start_time": "2024-04-21T08:40:23.061809681Z"
    }
   },
   "id": "c8b54449f9fff22a"
  },
  {
   "cell_type": "code",
   "execution_count": 143,
   "outputs": [],
   "source": [
    "df.describe()\n",
    "df.drop(['Country'], axis = 1, inplace=True)"
   ],
   "metadata": {
    "collapsed": false,
    "ExecuteTime": {
     "end_time": "2024-04-21T08:40:23.240873239Z",
     "start_time": "2024-04-21T08:40:23.089648031Z"
    }
   },
   "id": "54dc500c0eac5e6c"
  },
  {
   "cell_type": "code",
   "execution_count": 144,
   "outputs": [],
   "source": [
    "m = df['Profit'].mean()\n",
    "std = df['Profit'].std()\n",
    "# df = df[(df['Profit'] <= m + 3 * std) & (df['Profit'] >= m - 3 * std)]\n",
    "# df = df[df['Segment'] == 'Consumer']"
   ],
   "metadata": {
    "collapsed": false,
    "ExecuteTime": {
     "end_time": "2024-04-21T08:40:23.259526301Z",
     "start_time": "2024-04-21T08:40:23.125947475Z"
    }
   },
   "id": "4633b7ec9491b6e9"
  },
  {
   "cell_type": "code",
   "execution_count": 145,
   "outputs": [
    {
     "data": {
      "text/plain": "<Axes: ylabel='Frequency'>"
     },
     "execution_count": 145,
     "metadata": {},
     "output_type": "execute_result"
    },
    {
     "data": {
      "text/plain": "<Figure size 640x480 with 1 Axes>",
      "image/png": "[encoded data removed]"
     },
     "metadata": {},
     "output_type": "display_data"
    }
   ],
   "source": [
    "df['Discount'].plot(kind='hist')"
   ],
   "metadata": {
    "collapsed": false,
    "ExecuteTime": {
     "end_time": "2024-04-21T08:40:23.535471081Z",
     "start_time": "2024-04-21T08:40:23.143711557Z"
    }
   },
   "id": "c3d8b07c86bbf4fc"
  },
  {
   "cell_type": "code",
   "execution_count": 146,
   "outputs": [],
   "source": [
    "def compare_profit(df, discounted):\n",
    "    combined_profit_with_discount = discounted['Profit'].sum()\n",
    "    combined_profit_without_discount = df[df['Discount'] == 0]['Profit'].sum()\n",
    "    \n",
    "    average_profit_with_discount = discounted['Profit'].mean()\n",
    "    average_profit_without_discount = df[df['Discount'] == 0]['Profit'].mean()\n",
    "    \n",
    "    print(\"Combined Profit:\")\n",
    "    print(f\"With Discount: {combined_profit_with_discount}\")\n",
    "    print(f\"Without Discount: {combined_profit_without_discount}\")\n",
    "    \n",
    "    print(\"\\nAverage Profit:\")\n",
    "    print(f\"With Discount: {average_profit_with_discount}\")\n",
    "    print(f\"Without Discount: {average_profit_without_discount}\")"
   ],
   "metadata": {
    "collapsed": false,
    "ExecuteTime": {
     "end_time": "2024-04-21T08:40:23.535950309Z",
     "start_time": "2024-04-21T08:40:23.512707023Z"
    }
   },
   "id": "917b5407cd94ed2"
  },
  {
   "cell_type": "code",
   "execution_count": 147,
   "outputs": [
    {
     "name": "stdout",
     "output_type": "stream",
     "text": [
      "Combined Profit:\n",
      "With Discount: 93439.2696\n",
      "Without Discount: 104157.71220000001\n",
      "\n",
      "Average Profit:\n",
      "With Discount: 28.212339855072464\n",
      "Without Discount: 65.50799509433963\n",
      "Combined Profit:\n",
      "With Discount: 137141.5672\n",
      "Without Discount: 104157.71220000001\n",
      "\n",
      "Average Profit:\n",
      "With Discount: 46.88600588034188\n",
      "Without Discount: 65.50799509433963\n"
     ]
    }
   ],
   "source": [
    "compare_profit(df, df)\n",
    "compare_profit(df, df[df['Discount'].between(0.0, 0.3, inclusive='both')])"
   ],
   "metadata": {
    "collapsed": false,
    "ExecuteTime": {
     "end_time": "2024-04-21T08:40:23.635485252Z",
     "start_time": "2024-04-21T08:40:23.521800439Z"
    }
   },
   "id": "c83087d3abdfdfb5"
  },
  {
   "cell_type": "code",
   "execution_count": 148,
   "outputs": [
    {
     "data": {
      "text/plain": "<Figure size 1000x600 with 1 Axes>",
      "image/png": "[encoded data removed]"
     },
     "metadata": {},
     "output_type": "display_data"
    }
   ],
   "source": [
    "import matplotlib.pyplot as plt\n",
    "profits_by_discount = df.groupby('Discount')['Profit'].sum()\n",
    "\n",
    "plt.figure(figsize=(10, 6))\n",
    "profits_by_discount.plot(kind='bar', color='skyblue')\n",
    "plt.title('Profits by Discount')\n",
    "plt.xlabel('Discount (%)')\n",
    "plt.ylabel('Total Profit')\n",
    "plt.xticks(rotation=45)\n",
    "plt.grid(axis='y', linestyle='--', alpha=0.7)\n",
    "plt.tight_layout()\n",
    "plt.show()"
   ],
   "metadata": {
    "collapsed": false,
    "ExecuteTime": {
     "end_time": "2024-04-21T08:40:23.953192080Z",
     "start_time": "2024-04-21T08:40:23.546810402Z"
    }
   },
   "id": "880831ee66ed4a"
  },
  {
   "cell_type": "code",
   "execution_count": 149,
   "outputs": [],
   "source": [
    "df = df[df['Discount'] <= 0.4] # Discounts over 40% have never yielded profits"
   ],
   "metadata": {
    "collapsed": false,
    "ExecuteTime": {
     "end_time": "2024-04-21T08:40:23.953690236Z",
     "start_time": "2024-04-21T08:40:23.940171244Z"
    }
   },
   "id": "6d446703d635d541"
  },
  {
   "cell_type": "code",
   "execution_count": 180,
   "outputs": [
    {
     "name": "stdout",
     "output_type": "stream",
     "text": [
      "Consumer\n",
      "   cust_Ship Mode cust_Segment    cust_State cust_Region cust_Sub-Category  \\\n",
      "0  Standard Class     Consumer          Ohio        East       Furnishings   \n",
      "1  Standard Class     Consumer    California        West       Furnishings   \n",
      "2    Second Class     Consumer  Pennsylvania        East       Furnishings   \n",
      "3  Standard Class     Consumer       Georgia       South       Furnishings   \n",
      "4    Second Class     Consumer          Iowa     Central       Furnishings   \n",
      "5  Standard Class     Consumer    California        West       Furnishings   \n",
      "6     First Class     Consumer          Ohio        East       Furnishings   \n",
      "7  Standard Class     Consumer    Washington        West       Furnishings   \n",
      "8  Standard Class     Consumer    California        West       Furnishings   \n",
      "9    Second Class     Consumer      New York        East       Furnishings   \n",
      "\n",
      "  cust_Sales cust_Quantity cust_Discount cust_Profit  cust_Orders  ...  \\\n",
      "0     48.896           4.0           0.2      8.5568            1  ...   \n",
      "1     474.43          11.0           0.0    199.2606            1  ...   \n",
      "2     31.968           2.0           0.2      6.3936            1  ...   \n",
      "3      62.72           4.0           0.0     24.4608            1  ...   \n",
      "4      14.91           3.0           0.0      4.6221            1  ...   \n",
      "5     241.59           3.5           0.1     89.0867            2  ...   \n",
      "6    147.568           2.0           0.2     -3.6892            1  ...   \n",
      "7     107.53           1.0           0.0      21.506            1  ...   \n",
      "8      91.96           2.0           0.0     15.6332            1  ...   \n",
      "9      71.97           3.0           0.0     16.5531            1  ...   \n",
      "\n",
      "   next_Ship Mode next_Customer ID next_Segment    next_State next_Region  \\\n",
      "0  Standard Class         GA-14725     Consumer          Ohio        East   \n",
      "1  Standard Class         SC-20725     Consumer    California        West   \n",
      "2    Second Class         NS-18505     Consumer  Pennsylvania        East   \n",
      "3  Standard Class         BD-11500     Consumer       Georgia       South   \n",
      "4    Second Class         TM-21010     Consumer          Iowa     Central   \n",
      "5  Standard Class         JL-15835     Consumer    California        West   \n",
      "6     First Class         MM-17260     Consumer          Ohio        East   \n",
      "7  Standard Class         FH-14350     Consumer    Washington        West   \n",
      "8  Standard Class         DB-13060     Consumer    California        West   \n",
      "9    Second Class         RM-19750     Consumer      New York        East   \n",
      "\n",
      "  next_Sub-Category next_Sales next_Quantity next_Discount next_Profit  \n",
      "0       Furnishings     48.896             4           0.2      8.5568  \n",
      "1       Furnishings     474.43            11           0.0    199.2606  \n",
      "2       Furnishings     31.968             2           0.2      6.3936  \n",
      "3       Furnishings      62.72             4           0.0     24.4608  \n",
      "4       Furnishings      14.91             3           0.0      4.6221  \n",
      "5       Furnishings      86.26             2           0.0     29.3284  \n",
      "6       Furnishings    147.568             2           0.2     -3.6892  \n",
      "7       Furnishings     107.53             1           0.0      21.506  \n",
      "8       Furnishings      91.96             2           0.0     15.6332  \n",
      "9       Furnishings      71.97             3           0.0     16.5531  \n",
      "\n",
      "[10 rows x 21 columns]\n",
      "Home Office\n",
      "   cust_Ship Mode cust_Segment    cust_State cust_Region cust_Sub-Category  \\\n",
      "0  Standard Class     Consumer          Ohio        East       Furnishings   \n",
      "1  Standard Class     Consumer    California        West       Furnishings   \n",
      "2    Second Class     Consumer  Pennsylvania        East       Furnishings   \n",
      "3  Standard Class     Consumer       Georgia       South       Furnishings   \n",
      "4    Second Class     Consumer          Iowa     Central       Furnishings   \n",
      "5  Standard Class     Consumer    California        West       Furnishings   \n",
      "6     First Class     Consumer          Ohio        East       Furnishings   \n",
      "7  Standard Class     Consumer    Washington        West       Furnishings   \n",
      "8  Standard Class     Consumer    California        West       Furnishings   \n",
      "9    Second Class     Consumer      New York        East       Furnishings   \n",
      "\n",
      "  cust_Sales cust_Quantity cust_Discount cust_Profit  cust_Orders  ...  \\\n",
      "0     48.896           4.0           0.2      8.5568            1  ...   \n",
      "1     474.43          11.0           0.0    199.2606            1  ...   \n",
      "2     31.968           2.0           0.2      6.3936            1  ...   \n",
      "3      62.72           4.0           0.0     24.4608            1  ...   \n",
      "4      14.91           3.0           0.0      4.6221            1  ...   \n",
      "5     241.59           3.5           0.1     89.0867            2  ...   \n",
      "6    147.568           2.0           0.2     -3.6892            1  ...   \n",
      "7     107.53           1.0           0.0      21.506            1  ...   \n",
      "8      91.96           2.0           0.0     15.6332            1  ...   \n",
      "9      71.97           3.0           0.0     16.5531            1  ...   \n",
      "\n",
      "   next_Ship Mode next_Customer ID next_Segment    next_State next_Region  \\\n",
      "0  Standard Class         GA-14725     Consumer          Ohio        East   \n",
      "1  Standard Class         SC-20725     Consumer    California        West   \n",
      "2    Second Class         NS-18505     Consumer  Pennsylvania        East   \n",
      "3  Standard Class         BD-11500     Consumer       Georgia       South   \n",
      "4    Second Class         TM-21010     Consumer          Iowa     Central   \n",
      "5  Standard Class         JL-15835     Consumer    California        West   \n",
      "6     First Class         MM-17260     Consumer          Ohio        East   \n",
      "7  Standard Class         FH-14350     Consumer    Washington        West   \n",
      "8  Standard Class         DB-13060     Consumer    California        West   \n",
      "9    Second Class         RM-19750     Consumer      New York        East   \n",
      "\n",
      "  next_Sub-Category next_Sales next_Quantity next_Discount next_Profit  \n",
      "0       Furnishings     48.896             4           0.2      8.5568  \n",
      "1       Furnishings     474.43            11           0.0    199.2606  \n",
      "2       Furnishings     31.968             2           0.2      6.3936  \n",
      "3       Furnishings      62.72             4           0.0     24.4608  \n",
      "4       Furnishings      14.91             3           0.0      4.6221  \n",
      "5       Furnishings      86.26             2           0.0     29.3284  \n",
      "6       Furnishings    147.568             2           0.2     -3.6892  \n",
      "7       Furnishings     107.53             1           0.0      21.506  \n",
      "8       Furnishings      91.96             2           0.0     15.6332  \n",
      "9       Furnishings      71.97             3           0.0     16.5531  \n",
      "\n",
      "[10 rows x 21 columns]\n",
      "Corporate\n",
      "   cust_Ship Mode cust_Segment    cust_State cust_Region cust_Sub-Category  \\\n",
      "0  Standard Class     Consumer          Ohio        East       Furnishings   \n",
      "1  Standard Class     Consumer    California        West       Furnishings   \n",
      "2    Second Class     Consumer  Pennsylvania        East       Furnishings   \n",
      "3  Standard Class     Consumer       Georgia       South       Furnishings   \n",
      "4    Second Class     Consumer          Iowa     Central       Furnishings   \n",
      "5  Standard Class     Consumer    California        West       Furnishings   \n",
      "6     First Class     Consumer          Ohio        East       Furnishings   \n",
      "7  Standard Class     Consumer    Washington        West       Furnishings   \n",
      "8  Standard Class     Consumer    California        West       Furnishings   \n",
      "9    Second Class     Consumer      New York        East       Furnishings   \n",
      "\n",
      "  cust_Sales cust_Quantity cust_Discount cust_Profit  cust_Orders  ...  \\\n",
      "0     48.896           4.0           0.2      8.5568            1  ...   \n",
      "1     474.43          11.0           0.0    199.2606            1  ...   \n",
      "2     31.968           2.0           0.2      6.3936            1  ...   \n",
      "3      62.72           4.0           0.0     24.4608            1  ...   \n",
      "4      14.91           3.0           0.0      4.6221            1  ...   \n",
      "5     241.59           3.5           0.1     89.0867            2  ...   \n",
      "6    147.568           2.0           0.2     -3.6892            1  ...   \n",
      "7     107.53           1.0           0.0      21.506            1  ...   \n",
      "8      91.96           2.0           0.0     15.6332            1  ...   \n",
      "9      71.97           3.0           0.0     16.5531            1  ...   \n",
      "\n",
      "   next_Ship Mode next_Customer ID next_Segment    next_State next_Region  \\\n",
      "0  Standard Class         GA-14725     Consumer          Ohio        East   \n",
      "1  Standard Class         SC-20725     Consumer    California        West   \n",
      "2    Second Class         NS-18505     Consumer  Pennsylvania        East   \n",
      "3  Standard Class         BD-11500     Consumer       Georgia       South   \n",
      "4    Second Class         TM-21010     Consumer          Iowa     Central   \n",
      "5  Standard Class         JL-15835     Consumer    California        West   \n",
      "6     First Class         MM-17260     Consumer          Ohio        East   \n",
      "7  Standard Class         FH-14350     Consumer    Washington        West   \n",
      "8  Standard Class         DB-13060     Consumer    California        West   \n",
      "9    Second Class         RM-19750     Consumer      New York        East   \n",
      "\n",
      "  next_Sub-Category next_Sales next_Quantity next_Discount next_Profit  \n",
      "0       Furnishings     48.896             4           0.2      8.5568  \n",
      "1       Furnishings     474.43            11           0.0    199.2606  \n",
      "2       Furnishings     31.968             2           0.2      6.3936  \n",
      "3       Furnishings      62.72             4           0.0     24.4608  \n",
      "4       Furnishings      14.91             3           0.0      4.6221  \n",
      "5       Furnishings      86.26             2           0.0     29.3284  \n",
      "6       Furnishings    147.568             2           0.2     -3.6892  \n",
      "7       Furnishings     107.53             1           0.0      21.506  \n",
      "8       Furnishings      91.96             2           0.0     15.6332  \n",
      "9       Furnishings      71.97             3           0.0     16.5531  \n",
      "\n",
      "[10 rows x 21 columns]\n"
     ]
    }
   ],
   "source": [
    "customer_behaviors = pd.DataFrame()\n",
    "for segment in df['Segment'].unique():\n",
    "    seg = df[df['Segment'] == segment]\n",
    "    print(segment)\n",
    "    for col in df['Sub-Category'].unique():\n",
    "        cat = seg[seg['Sub-Category'] == col]\n",
    "        for ind, row in cat.iterrows():\n",
    "            rowid = row['Row ID']\n",
    "            client = row['Customer ID']\n",
    "            prev_purch = cat.iloc[:rowid]\n",
    "            prev_purch = prev_purch[prev_purch['Customer ID'] == client]\n",
    "            if prev_purch.empty:\n",
    "                break\n",
    "            purch_count = len(prev_purch['Order ID'].unique())\n",
    "            prev_purch = prev_purch.drop(['Order Date', 'Order ID', 'Row ID', 'City', 'Postal Code', 'Product ID', 'Category', 'Product Name'], axis=1)\n",
    "            mode = lambda x: x.value_counts().index[0]\n",
    "            customer = prev_purch.agg({'Ship Mode': mode, 'Segment': mode, 'State': mode, 'Region': mode, 'Sub-Category': mode, 'Sales': 'mean', 'Quantity': 'mean', 'Discount': 'mean', 'Profit': 'mean'})\n",
    "            customer = pd.DataFrame(data=customer).transpose().add_prefix('cust_')\n",
    "            customer['cust_Orders'] = purch_count\n",
    "            row = row.drop(['Order Date', 'Order ID', 'Row ID', 'City', 'Postal Code', 'Product ID', 'Category', 'Product Name'])\n",
    "            row = pd.DataFrame(row).transpose().add_prefix('next_').reset_index()\n",
    "            #print(\"row:\")\n",
    "            #print(row)\n",
    "            customer = pd.concat([customer, row], axis=1)\n",
    "            #print(\"customer:\")\n",
    "            #print(customer)\n",
    "            customer_behaviors = pd.concat([customer_behaviors , customer], ignore_index=True)\n",
    "        \n",
    "    print(customer_behaviors.head(10))"
   ],
   "metadata": {
    "collapsed": false,
    "ExecuteTime": {
     "end_time": "2024-04-21T09:43:11.552044402Z",
     "start_time": "2024-04-21T09:42:52.920917745Z"
    }
   },
   "id": "51427ae0476a02e8"
  },
  {
   "cell_type": "code",
   "execution_count": 181,
   "outputs": [
    {
     "name": "stdout",
     "output_type": "stream",
     "text": [
      "<class 'pandas.core.frame.DataFrame'>\n",
      "RangeIndex: 2603 entries, 0 to 2602\n",
      "Data columns (total 21 columns):\n",
      " #   Column             Non-Null Count  Dtype \n",
      "---  ------             --------------  ----- \n",
      " 0   cust_Ship Mode     2603 non-null   object\n",
      " 1   cust_Segment       2603 non-null   object\n",
      " 2   cust_State         2603 non-null   object\n",
      " 3   cust_Region        2603 non-null   object\n",
      " 4   cust_Sub-Category  2603 non-null   object\n",
      " 5   cust_Sales         2603 non-null   object\n",
      " 6   cust_Quantity      2603 non-null   object\n",
      " 7   cust_Discount      2603 non-null   object\n",
      " 8   cust_Profit        2603 non-null   object\n",
      " 9   cust_Orders        2603 non-null   int64 \n",
      " 10  index              2603 non-null   int64 \n",
      " 11  next_Ship Mode     2603 non-null   object\n",
      " 12  next_Customer ID   2603 non-null   object\n",
      " 13  next_Segment       2603 non-null   object\n",
      " 14  next_State         2603 non-null   object\n",
      " 15  next_Region        2603 non-null   object\n",
      " 16  next_Sub-Category  2603 non-null   object\n",
      " 17  next_Sales         2603 non-null   object\n",
      " 18  next_Quantity      2603 non-null   object\n",
      " 19  next_Discount      2603 non-null   object\n",
      " 20  next_Profit        2603 non-null   object\n",
      "dtypes: int64(2), object(19)\n",
      "memory usage: 427.2+ KB\n"
     ]
    }
   ],
   "source": [
    "customer_behaviors.head(10)\n",
    "customer_behaviors.info()"
   ],
   "metadata": {
    "collapsed": false,
    "ExecuteTime": {
     "end_time": "2024-04-21T09:43:15.291873875Z",
     "start_time": "2024-04-21T09:43:15.263727463Z"
    }
   },
   "id": "5bca30729e00f086"
  },
  {
   "cell_type": "code",
   "execution_count": 187,
   "outputs": [
    {
     "name": "stdout",
     "output_type": "stream",
     "text": [
      "Mean Squared Error: 0.01360673500214359\n",
      "Mean Squared Error: 0.0123966330497628\n",
      "Mean Percentage Error: -0.2932167888870433\n",
      "Mean Percentage Error: -0.2932167888870433\n"
     ]
    }
   ],
   "source": [
    "import numpy as np\n",
    "from sklearn.model_selection import train_test_split\n",
    "from sklearn.linear_model import LinearRegression\n",
    "from sklearn.linear_model import ElasticNet\n",
    "from sklearn.preprocessing import OneHotEncoder, PolynomialFeatures\n",
    "from sklearn.compose import ColumnTransformer\n",
    "from sklearn.pipeline import Pipeline\n",
    "from sklearn.metrics import mean_squared_error\n",
    "\n",
    "categorical_columns = customer_behaviors.select_dtypes(include=['object']).columns.tolist()\n",
    "numerical_columns = customer_behaviors.select_dtypes(include=['float64', 'int64']).columns.tolist()\n",
    "\n",
    "X = customer_behaviors[categorical_columns + numerical_columns]\n",
    "#X = X[customer_behaviors['cust_Segment']=='Consumer']\n",
    "y = customer_behaviors['next_Discount']\n",
    "#y = y[customer_behaviors['cust_Segment']=='Consumer']\n",
    "\n",
    "X_train, X_test, y_train, y_test = train_test_split(X, y, test_size=0.2, random_state=42)\n",
    "\n",
    "categorical_transformer = Pipeline(steps=[\n",
    "    ('onehot', OneHotEncoder(handle_unknown='ignore'))\n",
    "])\n",
    "\n",
    "preprocessor = ColumnTransformer(\n",
    "    transformers=[\n",
    "        ('cat', categorical_transformer, categorical_columns)\n",
    "    ])\n",
    "\n",
    "pipeline = Pipeline(steps=[('preprocessor', preprocessor),\n",
    "                           ('poly', PolynomialFeatures(degree=2)),\n",
    "                           ('regressor', ElasticNet())])\n",
    "\n",
    "pipeline.fit(X_train, y_train)\n",
    "y_pred = pipeline.predict(X_test)\n",
    "\n",
    "mse = mean_squared_error(y_test, y_pred)\n",
    "print(\"Mean Squared Error:\", mse)\n",
    "y_pred_train = pipeline.predict(X_train)\n",
    "mse = mean_squared_error(y_train, y_pred_train)\n",
    "print(\"Mean Squared Error:\", mse)\n",
    "# Calculate percentage error for each prediction\n",
    "percentage_errors = (((y_test + 1) - (y_pred + 1)) / (y_test + 1)) * 100\n",
    "#percentage_errors = (((y_test ) - (y_pred )) / (y_test )) * 100\n",
    "mean_percentage_error = np.mean(percentage_errors)\n",
    "print(\"Mean Percentage Error:\", mean_percentage_error)\n",
    "#percentage_errors = (((y_train ) - (y_pred_train )) / (y_train )) * 100\n",
    "mean_percentage_error = np.mean(percentage_errors)\n",
    "print(\"Mean Percentage Error:\", mean_percentage_error)\n",
    "\n",
    "# Calculate mean percentage error"
   ],
   "metadata": {
    "collapsed": false,
    "ExecuteTime": {
     "end_time": "2024-04-21T09:56:14.482880304Z",
     "start_time": "2024-04-21T09:55:38.591361428Z"
    }
   },
   "id": "804a1fc1e6c5f1d9"
  }
 ],
 "metadata": {
  "kernelspec": {
   "display_name": "Python 3",
   "language": "python",
   "name": "python3"
  },
  "language_info": {
   "codemirror_mode": {
    "name": "ipython",
    "version": 2
   },
   "file_extension": ".py",
   "mimetype": "text/x-python",
   "name": "python",
   "nbconvert_exporter": "python",
   "pygments_lexer": "ipython2",
   "version": "2.7.6"
  }
 },
 "nbformat": 4,
 "nbformat_minor": 5
}
